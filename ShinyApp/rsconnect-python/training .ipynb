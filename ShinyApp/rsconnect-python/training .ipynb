{
 "cells": [
  {
   "cell_type": "code",
   "execution_count": 22,
   "metadata": {},
   "outputs": [
    {
     "name": "stdout",
     "output_type": "stream",
     "text": [
      "Model Accuracy: 0.88\n",
      "Predictions with 'Best Guess' saved to C:\\Capstone Project\\Module 1\\Data-Analytics-Capstone\\Shiny App\\rsconnect-python\\test_predictions_with_best_guess.csv\n",
      "Model, scaler, and model columns saved successfully!\n"
     ]
    }
   ],
   "source": [
    "from sklearn.ensemble import RandomForestClassifier\n",
    "from sklearn.model_selection import train_test_split\n",
    "from sklearn.preprocessing import StandardScaler\n",
    "from sklearn.metrics import accuracy_score\n",
    "import pandas as pd\n",
    "import joblib\n",
    "import os\n",
    "\n",
    "# Create directories if they don't exist\n",
    "os.makedirs(r\"C:\\Capstone Project\\Module 1\\Data-Analytics-Capstone\\Shiny App\\rsconnect-python\", exist_ok=True)\n",
    "\n",
    "# Load data\n",
    "file_path = r\"C:\\Capstone Project\\Module 1\\Data-Analytics-Capstone\\Data\\heart.csv\"\n",
    "df = pd.read_csv(file_path)\n",
    "\n",
    "# Split features and target\n",
    "X = df.drop(\"HeartDisease\", axis=1)  # Features\n",
    "y = df[\"HeartDisease\"]              # Target\n",
    "\n",
    "# One-hot encoding for categorical variables\n",
    "X = pd.get_dummies(X, drop_first=True)\n",
    "\n",
    "# Scaling the features\n",
    "scaler = StandardScaler()\n",
    "X_scaled = scaler.fit_transform(X)\n",
    "\n",
    "# Train-Test Split\n",
    "X_train, X_test, y_train, y_test = train_test_split(X_scaled, y, test_size=0.2, random_state=42)\n",
    "\n",
    "# Train the Random Forest model\n",
    "model = RandomForestClassifier(random_state=42)\n",
    "model.fit(X_train, y_train)\n",
    "\n",
    "# Evaluate the model (optional, for verification purposes)\n",
    "y_pred = model.predict(X_test)\n",
    "accuracy = accuracy_score(y_test, y_pred)\n",
    "print(f\"Model Accuracy: {accuracy:.2f}\")\n",
    "\n",
    "# Add a 'Best Guess' column for the test data\n",
    "y_proba = model.predict_proba(X_test)  # Get predicted probabilities\n",
    "best_guess = y_proba.argmax(axis=1)   # Index of the max probability (class prediction)\n",
    "\n",
    "# Create a DataFrame to save with the predictions and best guess\n",
    "test_data_with_predictions = pd.DataFrame(X_test, columns=X.columns)\n",
    "test_data_with_predictions['HeartDisease_Prediction'] = y_pred\n",
    "test_data_with_predictions['Best_Guess'] = best_guess\n",
    "\n",
    "# Save the predictions and best guess DataFrame to the specified folder\n",
    "predictions_file_path = r\"C:\\Capstone Project\\Module 1\\Data-Analytics-Capstone\\Shiny App\\rsconnect-python\\test_predictions_with_best_guess.csv\"\n",
    "test_data_with_predictions.to_csv(predictions_file_path, index=False)\n",
    "print(f\"Predictions with 'Best Guess' saved to {predictions_file_path}\")\n",
    "\n",
    "# Save the trained model, scaler, and model columns\n",
    "model_file_path = r\"C:\\Capstone Project\\Module 1\\Data-Analytics-Capstone\\Shiny App\\rsconnect-python\\heart_disease_model.pkl\"\n",
    "scaler_file_path = r\"C:\\Capstone Project\\Module 1\\Data-Analytics-Capstone\\Shiny App\\rsconnect-python\\scaler.pkl\"\n",
    "model_columns_file_path = r\"C:\\Capstone Project\\Module 1\\Data-Analytics-Capstone\\Shiny App\\rsconnect-python\\heart_model_columns.pkl\"\n",
    "\n",
    "# Save the model and scaler to disk\n",
    "joblib.dump(model, model_file_path)\n",
    "joblib.dump(scaler, scaler_file_path)\n",
    "\n",
    "# Save the model columns (the feature names) to disk\n",
    "joblib.dump(X.columns.tolist(), model_columns_file_path)\n",
    "\n",
    "print(\"Model, scaler, and model columns saved successfully!\")\n"
   ]
  },
  {
   "cell_type": "code",
   "execution_count": 23,
   "metadata": {},
   "outputs": [
    {
     "name": "stdout",
     "output_type": "stream",
     "text": [
      "        Age  RestingBP  Cholesterol  FastingBS     MaxHR   Oldpeak     Sex_M  \\\n",
      "0  1.006537   0.410909    -0.034755  -0.551341  1.658016 -0.832432 -1.938163   \n",
      "1 -0.054192   0.681120     2.919751  -0.551341 -0.267596 -0.832432  0.515952   \n",
      "2  1.218683   1.491752    -1.818435   1.813758 -0.581981  0.293283  0.515952   \n",
      "3  0.264027  -0.129513    -1.818435  -0.551341 -0.581981  0.105664  0.515952   \n",
      "4  0.051881  -1.318441     1.008012  -0.551341  0.754157 -0.832432  0.515952   \n",
      "\n",
      "   ChestPainType_ATA  ChestPainType_NAP  ChestPainType_TA  RestingECG_Normal  \\\n",
      "0           2.075177          -0.532838         -0.229679           0.814275   \n",
      "1          -0.481887           1.876744         -0.229679           0.814275   \n",
      "2          -0.481887          -0.532838         -0.229679          -1.228087   \n",
      "3          -0.481887          -0.532838         -0.229679          -1.228087   \n",
      "4           2.075177          -0.532838         -0.229679           0.814275   \n",
      "\n",
      "   RestingECG_ST  ExerciseAngina_Y  ST_Slope_Flat  ST_Slope_Up  \\\n",
      "0      -0.490449         -0.823556      -1.002181     1.150674   \n",
      "1      -0.490449         -0.823556       0.997824    -0.869056   \n",
      "2       2.038947         -0.823556       0.997824    -0.869056   \n",
      "3      -0.490449          1.214246       0.997824    -0.869056   \n",
      "4      -0.490449         -0.823556      -1.002181     1.150674   \n",
      "\n",
      "   HeartDisease_Prediction  Best_Guess  \n",
      "0                        0           0  \n",
      "1                        1           1  \n",
      "2                        1           1  \n",
      "3                        1           1  \n",
      "4                        0           0  \n"
     ]
    }
   ],
   "source": [
    "import pandas as pd\n",
    "\n",
    "# Load the predictions file\n",
    "predictions_file_path = r\"C:\\Capstone Project\\Module 1\\Data-Analytics-Capstone\\Shiny App\\rsconnect-python\\test_predictions_with_best_guess.csv\"\n",
    "predictions_df = pd.read_csv(predictions_file_path)\n",
    "\n",
    "# Display the DataFrame (optional)\n",
    "print(predictions_df.head())\n"
   ]
  }
 ],
 "metadata": {
  "kernelspec": {
   "display_name": ".venv",
   "language": "python",
   "name": "python3"
  },
  "language_info": {
   "codemirror_mode": {
    "name": "ipython",
    "version": 3
   },
   "file_extension": ".py",
   "mimetype": "text/x-python",
   "name": "python",
   "nbconvert_exporter": "python",
   "pygments_lexer": "ipython3",
   "version": "3.9.13"
  }
 },
 "nbformat": 4,
 "nbformat_minor": 2
}
