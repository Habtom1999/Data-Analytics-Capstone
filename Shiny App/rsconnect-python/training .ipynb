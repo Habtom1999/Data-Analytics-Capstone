{
 "cells": [
  {
   "cell_type": "code",
   "execution_count": 6,
   "metadata": {},
   "outputs": [
    {
     "name": "stdout",
     "output_type": "stream",
     "text": [
      "Model Accuracy: 0.88\n",
      "Predictions with 'Best Guess' saved to C:\\Capstone Project\\Module 1\\Data-Analytics-Capstone\\Shiny App\\rsconnect-python\\test_predictions_with_best_guess.csv\n",
      "Model and scaler saved successfully!\n"
     ]
    }
   ],
   "source": [
    "from sklearn.ensemble import RandomForestClassifier\n",
    "from sklearn.model_selection import train_test_split\n",
    "from sklearn.preprocessing import StandardScaler\n",
    "from sklearn.metrics import accuracy_score\n",
    "import pandas as pd\n",
    "import joblib\n",
    "\n",
    "# Load data\n",
    "file_path = r\"C:\\Capstone Project\\Module 1\\Data-Analytics-Capstone\\Shiny App\\rsconnect-python\\heart.csv\"\n",
    "df = pd.read_csv(file_path)\n",
    "\n",
    "# Split features and target\n",
    "X = df.drop(\"HeartDisease\", axis=1)  # Features\n",
    "y = df[\"HeartDisease\"]              # Target\n",
    "\n",
    "# One-hot encoding for categorical variables\n",
    "X = pd.get_dummies(X, drop_first=True)\n",
    "\n",
    "# Scaling the features\n",
    "scaler = StandardScaler()\n",
    "X_scaled = scaler.fit_transform(X)\n",
    "\n",
    "# Train-Test Split\n",
    "X_train, X_test, y_train, y_test = train_test_split(X_scaled, y, test_size=0.2, random_state=42)\n",
    "\n",
    "# Train the Random Forest model\n",
    "model = RandomForestClassifier(random_state=42)\n",
    "model.fit(X_train, y_train)\n",
    "\n",
    "# Evaluate the model (optional, for verification purposes)\n",
    "y_pred = model.predict(X_test)\n",
    "accuracy = accuracy_score(y_test, y_pred)\n",
    "print(f\"Model Accuracy: {accuracy:.2f}\")\n",
    "\n",
    "# Add a 'Best Guess' column for the test data\n",
    "y_proba = model.predict_proba(X_test)  # Get predicted probabilities\n",
    "best_guess = y_proba.argmax(axis=1)   # Index of the max probability (class prediction)\n",
    "\n",
    "# Create a DataFrame to save with the predictions and best guess\n",
    "test_data_with_predictions = pd.DataFrame(X_test, columns=X.columns)\n",
    "test_data_with_predictions['HeartDisease_Prediction'] = y_pred\n",
    "test_data_with_predictions['Best_Guess'] = best_guess\n",
    "\n",
    "# Save the predictions and best guess DataFrame to the specified folder\n",
    "predictions_file_path = r\"C:\\Capstone Project\\Module 1\\Data-Analytics-Capstone\\Shiny App\\rsconnect-python\\test_predictions_with_best_guess.csv\"\n",
    "test_data_with_predictions.to_csv(predictions_file_path, index=False)\n",
    "print(f\"Predictions with 'Best Guess' saved to {predictions_file_path}\")\n",
    "\n",
    "# Save the model and scaler\n",
    "joblib.dump(model, r\"C:\\Capstone Project\\Module 1\\Data-Analytics-Capstone\\Shiny App\\rsconnect-python\\heart_disease_model.pkl\")\n",
    "joblib.dump(scaler, r\"C:\\Capstone Project\\Module 1\\Data-Analytics-Capstone\\Shiny App\\rsconnect-python\\scaler.pkl\")\n",
    "print(\"Model and scaler saved successfully!\")\n"
   ]
  }
 ],
 "metadata": {
  "kernelspec": {
   "display_name": ".venv",
   "language": "python",
   "name": "python3"
  },
  "language_info": {
   "codemirror_mode": {
    "name": "ipython",
    "version": 3
   },
   "file_extension": ".py",
   "mimetype": "text/x-python",
   "name": "python",
   "nbconvert_exporter": "python",
   "pygments_lexer": "ipython3",
   "version": "3.9.13"
  }
 },
 "nbformat": 4,
 "nbformat_minor": 2
}
