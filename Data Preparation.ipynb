{
 "cells": [
  {
   "cell_type": "code",
   "execution_count": null,
   "metadata": {},
   "outputs": [],
   "source": [
    "import numpy as np\n",
    "import pandas as pd\n",
    "\n",
    "# Use a raw string for the file path to avoid escape character issues (or double backslashes).\n",
    "df = pd.read_csv(r'C:\\Capstone Project\\Module 1\\Data-Analytics-Capstone\\Data\\heart.csv')\n",
    "\n",
    "# Display the first 10 rows of the DataFrame\n",
    "print(df.head(10))\n",
    "\n",
    "# Display information about the DataFrame\n",
    "df.info()\n",
    "\n",
    "# Display descriptive statistics for the DataFrame\n",
    "print(df.describe())\n",
    "print(df.columns)\n",
    "\n",
    "\n",
    "# Display descriptive statistics for the DataFrame\n",
    "print(df.describe())\n",
    "print(df.columns)\n",
    "\n",
    "\n"
   ]
  }
 ],
 "metadata": {
  "language_info": {
   "name": "python"
  }
 },
 "nbformat": 4,
 "nbformat_minor": 2
}
