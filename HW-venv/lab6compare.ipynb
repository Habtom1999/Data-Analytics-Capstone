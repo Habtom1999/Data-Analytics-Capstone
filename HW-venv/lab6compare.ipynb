{
 "cells": [
  {
   "cell_type": "code",
   "execution_count": 7,
   "id": "50cafd42-ae2d-475f-9b80-bd941b9a0a09",
   "metadata": {},
   "outputs": [
    {
     "name": "stdout",
     "output_type": "stream",
     "text": [
      "Input heights:  [[0], [33.3], [50], [100], [150], [175], [200]]\n",
      "Predicted weights are:  [-166.29034128  -25.8606099    -1.39346992   13.32603623   41.40189304\n",
      "   56.42986106   44.77557652]\n"
     ]
    },
    {
     "name": "stderr",
     "output_type": "stream",
     "text": [
      "C:\\Users\\habto\\AppData\\Local\\Programs\\Python\\Python39\\lib\\site-packages\\sklearn\\base.py:493: UserWarning: X does not have valid feature names, but SimpleImputer was fitted with feature names\n",
      "  warnings.warn(\n"
     ]
    }
   ],
   "source": [
    "import pickle\n",
    "\n",
    "# Load the saved model\n",
    "filename = 'finalized_model.sav'\n",
    "loaded_model = pickle.load(open(filename, 'rb'))\n",
    "\n",
    "# Heights to check\n",
    "heights = [[0], [33.3],[50], [100], [150], [175], [200]]\n",
    "\n",
    "# Predict weights using the loaded model\n",
    "weights = loaded_model.predict(heights)\n",
    "\n",
    "print('Input heights: ', heights)\n",
    "print('Predicted weights are: ', weights)\n",
    " "
   ]
  },
  {
   "cell_type": "code",
   "execution_count": null,
   "id": "95fe7a73-91a9-4594-a991-a89663f701bb",
   "metadata": {},
   "outputs": [],
   "source": []
  }
 ],
 "metadata": {
  "kernelspec": {
   "display_name": "Python 3 (ipykernel)",
   "language": "python",
   "name": "python3"
  },
  "language_info": {
   "codemirror_mode": {
    "name": "ipython",
    "version": 3
   },
   "file_extension": ".py",
   "mimetype": "text/x-python",
   "name": "python",
   "nbconvert_exporter": "python",
   "pygments_lexer": "ipython3",
   "version": "3.9.13"
  }
 },
 "nbformat": 4,
 "nbformat_minor": 5
}
